{
 "cells": [
  {
   "cell_type": "markdown",
   "metadata": {},
   "source": [
    "# Introduction"
   ]
  },
  {
   "cell_type": "code",
   "execution_count": null,
   "metadata": {},
   "outputs": [],
   "source": [
    "from matplotlib import pyplot as plt"
   ]
  },
  {
   "cell_type": "code",
   "execution_count": null,
   "metadata": {},
   "outputs": [],
   "source": [
    "def plot_some_points(x:list, y: list):\n",
    "    \"\"\"\n",
    "    Plots some points\n",
    "    \"\"\"\n",
    "    plt.plot(x,y)\n",
    "    plt.show()"
   ]
  },
  {
   "cell_type": "code",
   "execution_count": null,
   "metadata": {},
   "outputs": [],
   "source": [
    "USER_QUERY= \"Hei can you plot y=10x where x=1,2,3 for me?\""
   ]
  },
  {
   "cell_type": "code",
   "execution_count": null,
   "metadata": {},
   "outputs": [],
   "source": [
    "plot_some_points([1,2,3], [5,8,9])"
   ]
  },
  {
   "cell_type": "code",
   "execution_count": null,
   "metadata": {},
   "outputs": [],
   "source": [
    "prompt=\\\n",
    "f''' \n",
    "Function:\n",
    "def plot_some_points(x:list, y: list):\n",
    "    \"\"\"\n",
    "    Plots some points!\n",
    "    \"\"\"\n",
    "    plt.plot(x,y)\n",
    "    plt.show()\n",
    "    \n",
    "User_Query: {USER_QUERY}<human_end>\n",
    "'''"
   ]
  },
  {
   "cell_type": "code",
   "execution_count": null,
   "metadata": {},
   "outputs": [],
   "source": [
    "from utils import query_raven\n",
    "function_call = query_raven(prompt)"
   ]
  },
  {
   "cell_type": "code",
   "execution_count": null,
   "metadata": {},
   "outputs": [],
   "source": [
    "print(function_call)"
   ]
  },
  {
   "cell_type": "code",
   "execution_count": null,
   "metadata": {},
   "outputs": [],
   "source": [
    "exec(function_call)"
   ]
  },
  {
   "cell_type": "markdown",
   "metadata": {},
   "source": [
    "## Trying another time"
   ]
  },
  {
   "cell_type": "code",
   "execution_count": null,
   "metadata": {},
   "outputs": [],
   "source": [
    "USER_QUERY = \"Plot points x=[1,2,3], y=[2,4,6]\""
   ]
  },
  {
   "cell_type": "code",
   "execution_count": null,
   "metadata": {},
   "outputs": [],
   "source": [
    "prompt=\\\n",
    "f''' \n",
    "Function:\n",
    "def plot_some_points(x:list, y: list):\n",
    "    \"\"\"\n",
    "    Plots some points!\n",
    "    \"\"\"\n",
    "    plt.plot(x,y)\n",
    "    plt.show()\n",
    "    \n",
    "User_Query: {USER_QUERY}<human_end>\n",
    "'''\n",
    "\n",
    "from utils import query_raven\n",
    "function_call = query_raven(prompt)"
   ]
  },
  {
   "cell_type": "markdown",
   "metadata": {},
   "source": [
    "### Another example"
   ]
  },
  {
   "cell_type": "markdown",
   "metadata": {},
   "source": [
    "#### Function"
   ]
  },
  {
   "cell_type": "code",
   "execution_count": null,
   "metadata": {},
   "outputs": [],
   "source": [
    "import matplotlib.pyplot as plt\n",
    "import matplotlib.patches as patches\n",
    "\n",
    "def draw_clown_face(face_color='yellow', eye_color='black', \n",
    "                    nose_color='red'):\n",
    "    \"\"\"\n",
    "    Draws a customizable, simplified clown face using matplotlib.\n",
    "\n",
    "    Parameters:\n",
    "    - face_color (str): Color of the clown's face. Default is 'yellow'.\n",
    "    - eye_color (str): Color of the clown's eyes. Default is 'black'.\n",
    "    - nose_color (str): Color of the clown's nose. Default is 'red'.\n",
    "\n",
    "    This function creates a plot displaying a simplified clown face, where essential facial features' size, position, and color can be customized. \n",
    "    \"\"\"\n",
    "    # Constants\n",
    "    face_radius = 0.4\n",
    "    nose_radius = 0.1\n",
    "    nose_x, nose_y = 0.5, 0.5\n",
    "    mouth_x, mouth_y = 0.5, 0.3\n",
    "    mouth_color = 'black'\n",
    "    eye_size = 0.05\n",
    "    mouth_size = (0.3, 0.1)\n",
    "    eye_offset=(0.15, 0.15)\n",
    "    mouth_theta = (200, 340)\n",
    "\n",
    "    fig, ax = plt.subplots()\n",
    "    # Face\n",
    "    face = patches.Circle((0.5, 0.5), face_radius, color=face_color, fill=True)\n",
    "    ax.add_patch(face)\n",
    "    # Eyes\n",
    "    eye_left = patches.Circle((0.5-eye_offset[0], 0.5+eye_offset[1]), eye_size, color=eye_color, fill=True)\n",
    "    eye_right = patches.Circle((0.5+eye_offset[0], 0.5+eye_offset[1]), eye_size, color=eye_color, fill=True)\n",
    "    ax.add_patch(eye_left)\n",
    "    ax.add_patch(eye_right)\n",
    "    # Nose\n",
    "    nose = patches.Circle((nose_x, nose_y), nose_radius, color=nose_color, fill=True)\n",
    "    ax.add_patch(nose)\n",
    "    # Mouth\n",
    "    mouth = patches.Arc((mouth_x, mouth_y), mouth_size[0], mouth_size[1], angle=0, \n",
    "                        theta1=mouth_theta[0], theta2=mouth_theta[1], color=mouth_color, linewidth=2)\n",
    "    ax.add_patch(mouth)\n",
    "    # Setting aspect ratio to 'equal' to ensure the face is circular\n",
    "    ax.set_aspect('equal')\n",
    "    # Remove axes\n",
    "    ax.axis('off')\n",
    "    plt.show()"
   ]
  },
  {
   "cell_type": "markdown",
   "metadata": {},
   "source": [
    "#### Prompt"
   ]
  },
  {
   "cell_type": "code",
   "execution_count": null,
   "metadata": {},
   "outputs": [],
   "source": [
    "USER_QUERY = \\\n",
    "\"Hey can you draw a pink clown face with a red nose\" \n",
    "\n",
    "raven_prompt = \\\n",
    "'''\n",
    "Function:\n",
    "def draw_clown_face(face_color='yellow', \n",
    "                    eye_color='black',\n",
    "                    nose_color='red'):\n",
    "    \"\"\"\n",
    "    Draws a customizable, simplified clown face using matplotlib.\n",
    "\n",
    "    Parameters:\n",
    "    - face_color (str): Color of the clown's face.\n",
    "    - eye_color (str): Color of the clown's eyes.\n",
    "    - nose_color (str): Color of the clown's nose.\n",
    "    \"\"\"\n",
    "\n",
    "User Query: {query}<human_end>\n",
    "'''\n",
    "raven_prompt_with_query = raven_prompt.format(query=USER_QUERY)\n"
   ]
  },
  {
   "cell_type": "code",
   "execution_count": null,
   "metadata": {},
   "outputs": [],
   "source": [
    "print (raven_prompt_with_query)"
   ]
  },
  {
   "cell_type": "code",
   "execution_count": null,
   "metadata": {},
   "outputs": [],
   "source": [
    "from utils import query_raven\n",
    "raven_call = query_raven(raven_prompt_with_query)\n",
    "print (raven_call)"
   ]
  },
  {
   "cell_type": "markdown",
   "metadata": {},
   "source": [
    "#### Run the call"
   ]
  },
  {
   "cell_type": "code",
   "execution_count": null,
   "metadata": {},
   "outputs": [],
   "source": [
    "exec(raven_call)"
   ]
  },
  {
   "cell_type": "markdown",
   "metadata": {},
   "source": [
    "# Make your own Clown"
   ]
  },
  {
   "cell_type": "code",
   "execution_count": null,
   "metadata": {},
   "outputs": [],
   "source": [
    "USER_QUERY = \"\"\n",
    "raven_prompt_with_query = raven_prompt.format(query=USER_QUERY)\n",
    "\n",
    "from utils import query_raven\n",
    "raven_call = query_raven(raven_prompt_with_query)\n",
    "print (raven_call)\n",
    "exec(raven_call)"
   ]
  },
  {
   "cell_type": "markdown",
   "metadata": {},
   "source": [
    "#### Using OpenAi FC"
   ]
  },
  {
   "cell_type": "code",
   "execution_count": null,
   "metadata": {},
   "outputs": [],
   "source": [
    "import json\n",
    "from openai import OpenAI\n",
    "from dotenv import load_dotenv\n",
    "import os\n",
    "\n",
    "_ = load_dotenv()\n",
    "\n",
    "def query_openai(msg, functions=None):\n",
    "  load_dotenv()\n",
    "  GPT_MODEL = \"gpt-3.5-turbo\"\n",
    "\n",
    "  openai_client = OpenAI(api_key=os.environ[\"OPENAI_API_KEY\"])\n",
    "  openai_response = openai_client.chat.completions.create(\n",
    "    model = GPT_MODEL,\n",
    "    messages = [{'role': 'user', 'content': msg}],\n",
    "    tools = functions)\n",
    "  return openai_response"
   ]
  },
  {
   "cell_type": "code",
   "execution_count": null,
   "metadata": {},
   "outputs": [],
   "source": [
    "openai_function = {\n",
    "  \"type\": \"function\",\n",
    "  \"function\": {\n",
    "    \"name\": \"draw_clown_face\",\n",
    "    \"description\": \"Draws a customizable, simplified clown face using matplotlib.\",\n",
    "    \"parameters\": {\n",
    "      \"type\": \"object\",\n",
    "      \"properties\": {\n",
    "        \"face_color\": {\n",
    "          \"type\": \"string\",\n",
    "          \"description\": \"Color of the clown's face.\"\n",
    "        },\n",
    "        \"eye_color\": {\n",
    "          \"type\": \"string\",\n",
    "          \"description\": \"Color of the clown's eyes.\"\n",
    "        },\n",
    "        \"nose_color\": {\n",
    "          \"type\": \"string\",\n",
    "          \"description\": \"Color of the clown's nose.\"\n",
    "        }\n",
    "        }\n",
    "      }\n",
    "    }\n",
    "  }\n",
    "\n",
    "openai_msg = \\\n",
    "\"Hey can you draw a pink clown face with a red nose\""
   ]
  },
  {
   "cell_type": "code",
   "execution_count": null,
   "metadata": {},
   "outputs": [],
   "source": [
    "result = query_openai(openai_msg, functions=[openai_function])\n"
   ]
  },
  {
   "cell_type": "code",
   "execution_count": null,
   "metadata": {},
   "outputs": [],
   "source": [
    "print (result.choices[0].message.tool_calls[0].function)"
   ]
  },
  {
   "cell_type": "code",
   "execution_count": null,
   "metadata": {},
   "outputs": [],
   "source": [
    "tool_name = result.choices[0].message.tool_calls[0].function.name\n",
    "tool_args = result.choices[0].message.tool_calls[0].function.arguments\n"
   ]
  },
  {
   "cell_type": "code",
   "execution_count": null,
   "metadata": {},
   "outputs": [],
   "source": [
    "function_call = f\"{tool_name}(**{tool_args})\"\n"
   ]
  },
  {
   "cell_type": "code",
   "execution_count": null,
   "metadata": {},
   "outputs": [],
   "source": [
    "print (function_call)"
   ]
  },
  {
   "cell_type": "code",
   "execution_count": null,
   "metadata": {},
   "outputs": [],
   "source": [
    "exec(function_call)"
   ]
  },
  {
   "cell_type": "code",
   "execution_count": null,
   "metadata": {},
   "outputs": [],
   "source": []
  }
 ],
 "metadata": {
  "kernelspec": {
   "display_name": "Python 3",
   "language": "python",
   "name": "python3"
  },
  "language_info": {
   "codemirror_mode": {
    "name": "ipython",
    "version": 3
   },
   "file_extension": ".py",
   "mimetype": "text/x-python",
   "name": "python",
   "nbconvert_exporter": "python",
   "pygments_lexer": "ipython3",
   "version": "3.12.0"
  }
 },
 "nbformat": 4,
 "nbformat_minor": 2
}
